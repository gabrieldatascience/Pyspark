{
 "cells": [
  {
   "cell_type": "code",
   "execution_count": 1,
   "metadata": {
    "collapsed": true
   },
   "outputs": [],
   "source": [
    "from pyspark import SparkContext, SparkConf\n",
    "from pyspark.sql import SparkSession"
   ]
  },
  {
   "cell_type": "code",
   "execution_count": 2,
   "metadata": {
    "collapsed": true
   },
   "outputs": [],
   "source": [
    "sc = SparkContext(conf=SparkConf())\n",
    "spark = SparkSession(sparkContext=sc)"
   ]
  },
  {
   "cell_type": "markdown",
   "metadata": {},
   "source": [
    "# Datos de ejemplo"
   ]
  },
  {
   "cell_type": "code",
   "execution_count": 3,
   "metadata": {},
   "outputs": [
    {
     "name": "stdout",
     "output_type": "stream",
     "text": [
      "+---+------+---+---+---+---+\n",
      "| x1|    x2| x3| x4| y1| y2|\n",
      "+---+------+---+---+---+---+\n",
      "|  a| apple|  1|2.4|  1|yes|\n",
      "|  a|orange|  1|2.5|  0| no|\n",
      "|  b|orange|  2|3.5|  1| no|\n",
      "|  b|orange|  2|1.4|  0|yes|\n",
      "|  b| peach|  2|2.1|  0|yes|\n",
      "|  c| peach|  4|1.5|  1|yes|\n",
      "+---+------+---+---+---+---+\n",
      "\n"
     ]
    }
   ],
   "source": [
    "import pandas as pd\n",
    "pdf = pd.DataFrame({\n",
    "        'x1': ['a','a','b','b', 'b', 'c'],\n",
    "        'x2': ['apple', 'orange', 'orange','orange', 'peach', 'peach'],\n",
    "        'x3': [1, 1, 2, 2, 2, 4],\n",
    "        'x4': [2.4, 2.5, 3.5, 1.4, 2.1,1.5],\n",
    "        'y1': [1, 0, 1, 0, 0, 1],\n",
    "        'y2': ['yes', 'no', 'no', 'yes', 'yes', 'yes']\n",
    "    })\n",
    "df = spark.createDataFrame(pdf)\n",
    "df.show()"
   ]
  },
  {
   "cell_type": "markdown",
   "metadata": {},
   "source": [
    "# StringIndexer"
   ]
  },
  {
   "cell_type": "markdown",
   "metadata": {},
   "source": [
    "`StringIndexer` asigna una columna de cadena a una columna de índice que será tratada como una columna categórica por chispa. **Los índices comienzan con 0 y están ordenados por frecuencias de etiqueta**. Si se trata de una columna numérica, la columna se lanzará primero a una columna de cadena y luego se indexará mediante StringIndexer.\n",
    "\n",
    "Hay tres pasos para implementar el StringIndexer\n",
    "\n",
    "1. Construir el modelo StringIndexer: especifique los nombres de las columnas de entrada y salida.\n",
    "2. Aprenda el modelo StringIndexer: ajuste el modelo con sus datos.\n",
    "3. Ejecutar la indexación: llamar a la función transformar para ejecutar el proceso de indexación."
   ]
  },
  {
   "cell_type": "markdown",
   "metadata": {},
   "source": [
    "### Ejemplo: `StringIndex` columna \"x1\""
   ]
  },
  {
   "cell_type": "code",
   "execution_count": 4,
   "metadata": {},
   "outputs": [
    {
     "name": "stdout",
     "output_type": "stream",
     "text": [
      "+---+------+---+---+---+---+----------+\n",
      "| x1|    x2| x3| x4| y1| y2|indexed_x1|\n",
      "+---+------+---+---+---+---+----------+\n",
      "|  a| apple|  1|2.4|  1|yes|       1.0|\n",
      "|  a|orange|  1|2.5|  0| no|       1.0|\n",
      "|  b|orange|  2|3.5|  1| no|       0.0|\n",
      "|  b|orange|  2|1.4|  0|yes|       0.0|\n",
      "|  b| peach|  2|2.1|  0|yes|       0.0|\n",
      "|  c| peach|  4|1.5|  1|yes|       2.0|\n",
      "+---+------+---+---+---+---+----------+\n",
      "\n"
     ]
    }
   ],
   "source": [
    "from pyspark.ml.feature import StringIndexer\n",
    "\n",
    "# build indexer\n",
    "string_indexer = StringIndexer(inputCol='x1', outputCol='indexed_x1')\n",
    "\n",
    "# learn the model\n",
    "string_indexer_model = string_indexer.fit(df)\n",
    "\n",
    "# transform the data\n",
    "df_stringindexer = string_indexer_model.transform(df)\n",
    "\n",
    "# resulting df\n",
    "df_stringindexer.show()"
   ]
  },
  {
   "cell_type": "markdown",
   "metadata": {},
   "source": [
    "Del resultado anterior, podemos ver que (a, b, c) en la columna x1 se convierten a (1.0, 0.0, 2.0). Están ordenados por sus frecuencias en la columna x1.\n"
   ]
  },
  {
   "cell_type": "markdown",
   "metadata": {},
   "source": [
    "# OneHotEncoder"
   ]
  },
  {
   "cell_type": "markdown",
   "metadata": {},
   "source": [
    "**`OneHotEncoder`** convierte cada categoría de una columna **StringIndexed** en un `vector espeso`. Cada vector disperso tiene **como máximo un solo elemento activo** que indica el índice de la categoría."
   ]
  },
  {
   "cell_type": "code",
   "execution_count": 7,
   "metadata": {},
   "outputs": [
    {
     "name": "stdout",
     "output_type": "stream",
     "text": [
      "+---+\n",
      "| x1|\n",
      "+---+\n",
      "|  a|\n",
      "|  a|\n",
      "|  b|\n",
      "|  b|\n",
      "|  b|\n",
      "|  c|\n",
      "+---+\n",
      "\n"
     ]
    }
   ],
   "source": [
    "df_ohe = df.select('x1')\n",
    "df_ohe.show()"
   ]
  },
  {
   "cell_type": "markdown",
   "metadata": {},
   "source": [
    "### `StringIndex` columna 'x1'"
   ]
  },
  {
   "cell_type": "code",
   "execution_count": 14,
   "metadata": {},
   "outputs": [
    {
     "name": "stdout",
     "output_type": "stream",
     "text": [
      "+---+----------+\n",
      "| x1|indexed_x1|\n",
      "+---+----------+\n",
      "|  a|       1.0|\n",
      "|  a|       1.0|\n",
      "|  b|       0.0|\n",
      "|  b|       0.0|\n",
      "|  b|       0.0|\n",
      "|  c|       2.0|\n",
      "+---+----------+\n",
      "\n"
     ]
    }
   ],
   "source": [
    "df_x1_indexed = StringIndexer(inputCol='x1', outputCol='indexed_x1').fit(df_ohe).transform(df_ohe)\n",
    "df_x1_indexed.show()"
   ]
  },
  {
   "cell_type": "markdown",
   "metadata": {},
   "source": [
    "x1\" tiene tres categorías: \"a\", \"b\" y \"c\", que corresponden a los índices de cadenas 1,0, 0,0 y 2,0, respectivamente."
   ]
  },
  {
   "cell_type": "markdown",
   "metadata": {},
   "source": [
    "### Asignación de índices de cadenas a vectores dispersos"
   ]
  },
  {
   "cell_type": "markdown",
   "metadata": {},
   "source": [
    "* Formato de codificación: índice de cadenas\": index of string indices vector size\", \"index of string index in string indices vector\", **1.0** ]"
   ]
  },
  {
   "cell_type": "markdown",
   "metadata": {},
   "source": [
    "Aquí el vector de los índices de cadenas es `[0.0, 1.0, 2.0]`. Por lo tanto, el mapeo entre índices de cadenas y vectores dispersos es:\n",
    "* `0.0: [3, [0], [1.0]]`\n",
    "* `1.0: [3, [1], [1.0]]`\n",
    "* `2.0: [3, [2], [1.0]]`"
   ]
  },
  {
   "cell_type": "markdown",
   "metadata": {},
   "source": [
    "Después de convertir todos los vectores dispersos en vectores densos, obtenemos:"
   ]
  },
  {
   "cell_type": "code",
   "execution_count": 43,
   "metadata": {},
   "outputs": [
    {
     "data": {
      "text/plain": [
       "array([[ 1.,  0.,  0.],\n",
       "       [ 0.,  1.,  0.],\n",
       "       [ 0.,  0.,  1.]])"
      ]
     },
     "execution_count": 43,
     "metadata": {},
     "output_type": "execute_result"
    }
   ],
   "source": [
    "from pyspark.ml.linalg import DenseVector, SparseVector, DenseMatrix, SparseMatrix\n",
    "x = [SparseVector(3, {0: 1.0}).toArray()] + \\\n",
    "    [SparseVector(3, {1: 1.0}).toArray()] + \\\n",
    "    [SparseVector(3, {2: 1.0}).toArray()]\n",
    "\n",
    "import numpy as np\n",
    "np.array(x)"
   ]
  },
  {
   "cell_type": "markdown",
   "metadata": {},
   "source": [
    "**La matriz obtenida es exactamente la matriz que utilizaríamos para representar nuestra variable categórica en una clase estadística**."
   ]
  },
  {
   "cell_type": "markdown",
   "metadata": {},
   "source": [
    "### Un paso más para dar\n",
    "\n",
    "`OneHotEncoder` de forma predeterminada dejará caer la última categoría. Así que el **vector de índices de cadenas** se convierte en `[0.0, 1.0]`, y los mapeos entre índices de cadenas y vectores dispersos lo son:\n",
    "\n",
    "* `0.0: [2, [0], [1.0]]`\n",
    "* `1.0: [2, [1], [1.0]]`\n",
    "* `2.0: [2, [], []]`\n",
    "\n",
    "Utilizamos un vector disperso que tiene **ningún elemento activo** (básicamente todos los elementos son 0's) para representar la última categoría."
   ]
  },
  {
   "cell_type": "markdown",
   "metadata": {},
   "source": [
    "# Verificar"
   ]
  },
  {
   "cell_type": "markdown",
   "metadata": {},
   "source": [
    "### OneHotEncode columna 'indexed_x1'"
   ]
  },
  {
   "cell_type": "code",
   "execution_count": 46,
   "metadata": {
    "collapsed": true
   },
   "outputs": [],
   "source": [
    "from pyspark.ml.feature import OneHotEncoder"
   ]
  },
  {
   "cell_type": "code",
   "execution_count": 47,
   "metadata": {},
   "outputs": [
    {
     "name": "stdout",
     "output_type": "stream",
     "text": [
      "+---+----------+-------------+\n",
      "| x1|indexed_x1|   encoded_x1|\n",
      "+---+----------+-------------+\n",
      "|  a|       1.0|(2,[1],[1.0])|\n",
      "|  a|       1.0|(2,[1],[1.0])|\n",
      "|  b|       0.0|(2,[0],[1.0])|\n",
      "|  b|       0.0|(2,[0],[1.0])|\n",
      "|  b|       0.0|(2,[0],[1.0])|\n",
      "|  c|       2.0|    (2,[],[])|\n",
      "+---+----------+-------------+\n",
      "\n"
     ]
    }
   ],
   "source": [
    "OneHotEncoder(inputCol='indexed_x1', outputCol='encoded_x1').transform(df_x1_indexed).show()"
   ]
  },
  {
   "cell_type": "markdown",
   "metadata": {},
   "source": [
    "### Especifique no dejar caer la última categoría\n",
    "\n",
    "Si decidimos no abandonar la última categoría, obtenemos los resultados esperados."
   ]
  },
  {
   "cell_type": "code",
   "execution_count": 49,
   "metadata": {},
   "outputs": [
    {
     "name": "stdout",
     "output_type": "stream",
     "text": [
      "+---+----------+-------------+\n",
      "| x1|indexed_x1|   encoded_x1|\n",
      "+---+----------+-------------+\n",
      "|  a|       1.0|(3,[1],[1.0])|\n",
      "|  a|       1.0|(3,[1],[1.0])|\n",
      "|  b|       0.0|(3,[0],[1.0])|\n",
      "|  b|       0.0|(3,[0],[1.0])|\n",
      "|  b|       0.0|(3,[0],[1.0])|\n",
      "|  c|       2.0|(3,[2],[1.0])|\n",
      "+---+----------+-------------+\n",
      "\n"
     ]
    }
   ],
   "source": [
    "OneHotEncoder(dropLast=False, inputCol='indexed_x1', outputCol='encoded_x1').transform(df_x1_indexed).show()"
   ]
  }
 ],
 "metadata": {
  "anaconda-cloud": {},
  "kernelspec": {
   "display_name": "Python 3",
   "language": "python",
   "name": "python3"
  },
  "language_info": {
   "codemirror_mode": {
    "name": "ipython",
    "version": 3
   },
   "file_extension": ".py",
   "mimetype": "text/x-python",
   "name": "python",
   "nbconvert_exporter": "python",
   "pygments_lexer": "ipython3",
   "version": "3.7.4"
  }
 },
 "nbformat": 4,
 "nbformat_minor": 2
}
