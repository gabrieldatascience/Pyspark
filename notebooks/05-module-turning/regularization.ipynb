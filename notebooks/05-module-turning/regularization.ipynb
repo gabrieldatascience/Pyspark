{
 "cells": [
  {
   "cell_type": "markdown",
   "metadata": {},
   "source": [
    "# Regularización\n",
    "---"
   ]
  },
  {
   "cell_type": "markdown",
   "metadata": {},
   "source": [
    "## Regularización\n",
    "\n",
    "La regularización es la técnica que se utiliza para resolver el problema del sobreajuste. Un modelo sobredimensionado significa que el modelo puede predecir muy bien con los datos de formación, pero su rendimiento es deficiente con datos de validación independientes.\n",
    "\n",
    "Cuando añadimos más predictores a nuestro modelo, casi necesariamente reduciremos la **Suma Residual de Cuadrados** (RSS; RSS más pequeño indica mejor modelo). Esto aumenta la complejidad de nuestro modelo y hace que nuestro modelo sólo funcione bien con los datos de entrenamiento (overfitting).\n",
    "\n",
    "Para equilibrar la sobreadaptación de RSS y del modelo, introducimos una penalización por añadir nuevos predictores (coeficiente $\\beta \\neq 0$) al modelo.\n",
    "\n",
    "\n",
    "\n",
    "\n",
    "\n",
    "\n",
    "\n",
    "\n",
    "## LASSO regularización y regularización de cresta\n",
    "\n",
    "* **LASSO**: $min \\{RSS + \\lambda\\sum_{j=1}^{p}|\\beta_1|\\}$\n",
    "* **Ridge**: $min \\{RSS + \\lambda\\sum_{j=1}^{p}\\beta^2_2\\}$\n",
    "\n",
    "## Elastic Net regularización\n",
    "\n",
    "La red elástica es un método regularizado que combina linealmente las penalidades de los métodos del lazo y de la cresta.\n",
    "\n",
    "* **elastic net**: $min \\{RSS + \\lambda[\\sum_{j=1}^{p}\\frac{1}{2}(1-\\alpha)|\\beta^2_2| + \\alpha\\sum_{j=1}^{p}\\beta_1]\\}$\n",
    "\n",
    "Referencia: https://spark.apache.org/docs/2.1.1/ml-classification-regression.html\n",
    "\n",
    "## *regParam* and *elasticNetParam* parámetros en los modelos de regresión\n",
    "\n",
    "* **regParam**: corresponde a $\\lambda$\n",
    "* **elasticNetParam** corresponde a $\\alpha$. When $\\alpha = 0$, es la regularización de la cresta (L2 penalty). Cuando $\\alpha = 1$, es la regularización del lazo (L1 penalty)."
   ]
  },
  {
   "cell_type": "code",
   "execution_count": null,
   "metadata": {
    "collapsed": true
   },
   "outputs": [],
   "source": []
  }
 ],
 "metadata": {
  "kernelspec": {
   "display_name": "Python 3",
   "language": "python",
   "name": "python3"
  },
  "language_info": {
   "codemirror_mode": {
    "name": "ipython",
    "version": 3
   },
   "file_extension": ".py",
   "mimetype": "text/x-python",
   "name": "python",
   "nbconvert_exporter": "python",
   "pygments_lexer": "ipython3",
   "version": "3.7.4"
  }
 },
 "nbformat": 4,
 "nbformat_minor": 2
}
