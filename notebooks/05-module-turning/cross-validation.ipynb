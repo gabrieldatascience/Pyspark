{
 "cells": [
  {
   "cell_type": "markdown",
   "metadata": {},
   "source": [
    "# Cross-validation\n",
    "---"
   ]
  },
  {
   "cell_type": "markdown",
   "metadata": {},
   "source": [
    "## Training/validation/test data sets\n",
    "\n",
    "* **Training set**: el conjunto de datos para entrenar a sus modelos.\n",
    "* **Validation set**: El conjunto de datos utilizado para probar el rendimiento de sus modelos que ha construido con los conjuntos de entrenamiento. En función de las prestaciones, se elige el mejor modelo (final).\n",
    "* **Test set**: utilice este conjunto de datos para probar el rendimiento de su modelo final.\n",
    "\n",
    "## K-folds cross validation steps (k=4 porejemplo).\n",
    "\n",
    "* Paso 1: Divida sus datos en un conjunto de entrenamiento y un conjunto de pruebas (por ejemplo, 80% de entrenamiento y 20% de prueba). El equipo de prueba nunca se utilizará en la formación y selección de modelos. \n",
    "* paso 2: dividir el conjunto de entrenamiento en subconjuntos k (k=4) eqaul: 3 subconjuntos para el entrenamiento + 1 subconjunto para la validación.\n",
    "* Paso 3: Entrenar sus modelos con los 3 subconjuntos y calcular una puntuación de rendimiento con el subconjunto restante.\n",
    "* paso 4: elija un subconjunto diferente para la validación y luego repita el paso 3 hasta que cada subconjunto se haya utilizado como subconjunto de validación.\n",
    "* paso 5: para una validación cruzada k=4 veces, cada modelo entrenado debe haber sido validado por 4 subconjuntos y por lo tanto tiene 4 puntajes de desempeño. Calcule el promedio de estas 4 puntuaciones de rendimiento para cada modelo. Utilice la puntuación media para seleccionar el mejor modelo final.\n",
    "* paso 6: aplique su modelo final al **untouched** datos de prueba y ver cómo funciona.\n",
    "\n",
    "## Eejemplo de k-folds cross validation\n",
    "\n",
    "### Construir cuadrículas de parámetros\n",
    "\n",
    "* cuadrícula de parámetros: una combinación de todos los parámetros variables de su modelo.\n",
    "* ejemplo: Si quiero entrenar un modelo de regresión logística en 4 diferentes *regParam* y 3 diferentes *elasticNetParam*, tendré 3 x 4 = 12 modelos para entrenar y validar.\n",
    "    "
   ]
  },
  {
   "cell_type": "code",
   "execution_count": null,
   "metadata": {
    "collapsed": true
   },
   "outputs": [],
   "source": [
    "from pyspark.ml.classification import LogisticRegression\n",
    "blor = LogisticRegression(featuresCol='indexed_features', labelCol='label', family='binomial')\n",
    "\n",
    "from pyspark.ml.tuning import ParamGridBuilder\n",
    "param_grid = ParamGridBuilder().\\\n",
    "    addGrid(blor.regParam, [0, 0.5, 1, 2]).\\\n",
    "    addGrid(blor.elasticNetParam, [0, 0.5, 1]).\\\n",
    "    build()"
   ]
  },
  {
   "cell_type": "markdown",
   "metadata": {},
   "source": [
    "### Divida los datos en grupos de entrenamiento y de prueba\n",
    "* Consulte la página[logistic regression page](logistic-regression.ipynb) para ver qué datos utilizamos y cómo se generaron los conjuntos de entrenamiento y pruebas.\n",
    "\n",
    "#### Run k (k=4) folds cross validation"
   ]
  },
  {
   "cell_type": "code",
   "execution_count": null,
   "metadata": {
    "collapsed": true
   },
   "outputs": [],
   "source": [
    "from pyspark.ml.evaluation import BinaryClassificationEvaluator\n",
    "evaluator = BinaryClassificationEvaluator()\n",
    "\n",
    "from pyspark.ml.tuning import CrossValidator\n",
    "cv = CrossValidator(estimator=blor, estimatorParamMaps=param_grid, evaluator=evaluator, numFolds=4)\n",
    "\n",
    "cvModel = cv.fit(training)"
   ]
  },
  {
   "cell_type": "code",
   "execution_count": null,
   "metadata": {
    "collapsed": true
   },
   "outputs": [],
   "source": []
  }
 ],
 "metadata": {
  "kernelspec": {
   "display_name": "Python 3",
   "language": "python",
   "name": "python3"
  },
  "language_info": {
   "codemirror_mode": {
    "name": "ipython",
    "version": 3
   },
   "file_extension": ".py",
   "mimetype": "text/x-python",
   "name": "python",
   "nbconvert_exporter": "python",
   "pygments_lexer": "ipython3",
   "version": "3.7.4"
  }
 },
 "nbformat": 4,
 "nbformat_minor": 2
}
